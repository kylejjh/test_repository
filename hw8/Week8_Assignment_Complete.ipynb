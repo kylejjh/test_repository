{
 "cells": [
  {
   "cell_type": "markdown",
   "id": "40132b67",
   "metadata": {},
   "source": [
    "# Week 8 Take-Home Assignment\n",
    "\n",
    "This notebook covers both Logistic Regression and Clustering analyses using the `glass.csv` and `iris.csv` datasets."
   ]
  },
  {
   "cell_type": "code",
   "execution_count": null,
   "id": "b43f5337",
   "metadata": {},
   "outputs": [],
   "source": [
    "import pandas as pd\n",
    "import numpy as np\n",
    "from sklearn.preprocessing import StandardScaler, OneHotEncoder\n",
    "from sklearn.linear_model import LogisticRegression\n",
    "from sklearn.model_selection import train_test_split\n",
    "from sklearn.metrics import accuracy_score, precision_score, recall_score, roc_curve, auc\n",
    "from sklearn.cluster import KMeans\n",
    "from sklearn.metrics import silhouette_score\n",
    "import matplotlib.pyplot as plt\n",
    "import seaborn as sns\n",
    "\n",
    "# Load datasets\n",
    "glass_df = pd.read_csv(\"glass.csv\")\n",
    "iris_df = pd.read_csv(\"iris.csv\")"
   ]
  },
  {
   "cell_type": "markdown",
   "id": "3a47d6d5",
   "metadata": {},
   "source": [
    "## Logistic Regression on Glass Dataset (Binary Classification)"
   ]
  },
  {
   "cell_type": "code",
   "execution_count": null,
   "id": "0ea5cdda",
   "metadata": {},
   "outputs": [],
   "source": [
    "# Convert to binary classification: Type == 1 as 1, others as 0\n",
    "glass_df['TypeBinary'] = (glass_df['Type'] == 1).astype(int)\n",
    "\n",
    "# Feature and target split\n",
    "X = glass_df.drop(columns=['Type', 'TypeBinary'])\n",
    "y = glass_df['TypeBinary']\n",
    "\n",
    "# Normalize\n",
    "scaler = StandardScaler()\n",
    "X_scaled = scaler.fit_transform(X)\n",
    "\n",
    "# Train/test split\n",
    "X_train, X_test, y_train, y_test = train_test_split(X_scaled, y, test_size=0.3, random_state=42)\n",
    "\n",
    "# Fit model\n",
    "model = LogisticRegression()\n",
    "model.fit(X_train, y_train)\n",
    "\n",
    "# Predict probabilities\n",
    "y_probs = model.predict_proba(X_test)[:, 1]\n",
    "\n",
    "# Threshold analysis\n",
    "thresholds = np.arange(0.1, 0.9, 0.1)\n",
    "results = []\n",
    "\n",
    "for threshold in thresholds:\n",
    "    y_pred = (y_probs >= threshold).astype(int)\n",
    "    acc = accuracy_score(y_test, y_pred)\n",
    "    prec = precision_score(y_test, y_pred, zero_division=0)\n",
    "    rec = recall_score(y_test, y_pred)\n",
    "    results.append((threshold, acc, prec, rec))\n",
    "\n",
    "pd.DataFrame(results, columns=[\"Threshold\", \"Accuracy\", \"Precision\", \"Recall\"])"
   ]
  },
  {
   "cell_type": "code",
   "execution_count": null,
   "id": "e664bfb3",
   "metadata": {},
   "outputs": [],
   "source": [
    "# ROC Curve\n",
    "fpr, tpr, _ = roc_curve(y_test, y_probs)\n",
    "roc_auc = auc(fpr, tpr)\n",
    "\n",
    "plt.figure(figsize=(6, 4))\n",
    "plt.plot(fpr, tpr, label=f\"ROC curve (AUC = {roc_auc:.2f})\")\n",
    "plt.plot([0, 1], [0, 1], 'k--')\n",
    "plt.title(\"ROC Curve\")\n",
    "plt.xlabel(\"False Positive Rate\")\n",
    "plt.ylabel(\"True Positive Rate\")\n",
    "plt.legend()\n",
    "plt.grid(True)\n",
    "plt.show()"
   ]
  },
  {
   "cell_type": "markdown",
   "id": "85f937ef",
   "metadata": {},
   "source": [
    "## Clustering on Iris and Glass Datasets"
   ]
  },
  {
   "cell_type": "code",
   "execution_count": null,
   "id": "5bbc43ad",
   "metadata": {},
   "outputs": [],
   "source": [
    "def run_clustering(df, name):\n",
    "    results = []\n",
    "    X = df.select_dtypes(include=[np.number])\n",
    "    \n",
    "    for scale in [True, False]:\n",
    "        data = StandardScaler().fit_transform(X) if scale else X.values\n",
    "        for k in [2, 3, 4, 5, 6]:\n",
    "            kmeans = KMeans(n_clusters=k, n_init=10, random_state=42)\n",
    "            labels = kmeans.fit_predict(data)\n",
    "            inertia = kmeans.inertia_\n",
    "            sil_score = silhouette_score(data, labels)\n",
    "            results.append({\n",
    "                \"Dataset\": name,\n",
    "                \"Scaled\": scale,\n",
    "                \"k\": k,\n",
    "                \"Inertia\": inertia,\n",
    "                \"Silhouette\": sil_score\n",
    "            })\n",
    "    return pd.DataFrame(results)\n",
    "\n",
    "iris_results = run_clustering(iris_df.drop(columns=['Name']), \"Iris\")\n",
    "glass_results = run_clustering(glass_df.drop(columns=['Type', 'TypeBinary']), \"Glass\")\n",
    "pd.concat([iris_results, glass_results])"
   ]
  }
 ],
 "metadata": {},
 "nbformat": 4,
 "nbformat_minor": 5
}